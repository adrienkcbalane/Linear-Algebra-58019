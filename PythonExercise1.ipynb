{
  "nbformat": 4,
  "nbformat_minor": 0,
  "metadata": {
    "colab": {
      "name": "PythonExercise1.ipynb",
      "provenance": [],
      "authorship_tag": "ABX9TyP2qmKQbo2ucIFvcnSLp88u",
      "include_colab_link": true
    },
    "kernelspec": {
      "name": "python3",
      "display_name": "Python 3"
    },
    "language_info": {
      "name": "python"
    }
  },
  "cells": [
    {
      "cell_type": "markdown",
      "metadata": {
        "id": "view-in-github",
        "colab_type": "text"
      },
      "source": [
        "<a href=\"https://colab.research.google.com/github/adriyennKB/Linear-Algebra-58019/blob/main/PythonExercise1.ipynb\" target=\"_parent\"><img src=\"https://colab.research.google.com/assets/colab-badge.svg\" alt=\"Open In Colab\"/></a>"
      ]
    },
    {
      "cell_type": "markdown",
      "metadata": {
        "id": "WtHr7EiE7_Q0"
      },
      "source": [
        "#Matrix and Its Operation"
      ]
    },
    {
      "cell_type": "markdown",
      "metadata": {
        "id": "mGgY-_fL8jzV"
      },
      "source": [
        "1. sum= A + B"
      ]
    },
    {
      "cell_type": "code",
      "metadata": {
        "colab": {
          "base_uri": "https://localhost:8080/"
        },
        "id": "Kt-K_VEA73rZ",
        "outputId": "b02fee9b-6677-4fd2-bd61-16ec95ffe395"
      },
      "source": [
        "#numpy\n",
        "import numpy as np\n",
        "A = np.array([[-5,0],[4,1]])\n",
        "B = np.array([[6,-3],[2,3]])\n",
        "print(A+B)"
      ],
      "execution_count": 6,
      "outputs": [
        {
          "output_type": "stream",
          "name": "stdout",
          "text": [
            "[[ 1 -3]\n",
            " [ 6  4]]\n"
          ]
        }
      ]
    },
    {
      "cell_type": "markdown",
      "metadata": {
        "id": "3RrMyoVM-AE6"
      },
      "source": [
        "2. difference1= B-A"
      ]
    },
    {
      "cell_type": "code",
      "metadata": {
        "colab": {
          "base_uri": "https://localhost:8080/"
        },
        "id": "GwLoeB-u9_jC",
        "outputId": "890d0d3c-7684-4e31-c0db-485eb71275e8"
      },
      "source": [
        "import numpy as np\n",
        "A = np.array([[-5,0],[4,1]])\n",
        "B = np.array([[6,-3],[2,3]])\n",
        "print(B-A)"
      ],
      "execution_count": 8,
      "outputs": [
        {
          "output_type": "stream",
          "name": "stdout",
          "text": [
            "[[11 -3]\n",
            " [-2  2]]\n"
          ]
        }
      ]
    },
    {
      "cell_type": "markdown",
      "metadata": {
        "id": "_itre8vX-LsZ"
      },
      "source": [
        "3. difference2= A-B"
      ]
    },
    {
      "cell_type": "code",
      "metadata": {
        "colab": {
          "base_uri": "https://localhost:8080/"
        },
        "id": "tVOKh4pk-Oh6",
        "outputId": "b186f4b4-0a26-45e4-cce6-9d65ee8d1286"
      },
      "source": [
        "import numpy as np\n",
        "A = np.array([[-5,0],[4,1]])\n",
        "B = np.array([[6,-3],[2,3]])\n",
        "print(A-B)"
      ],
      "execution_count": 10,
      "outputs": [
        {
          "output_type": "stream",
          "name": "stdout",
          "text": [
            "[[-11   3]\n",
            " [  2  -2]]\n"
          ]
        }
      ]
    }
  ]
}