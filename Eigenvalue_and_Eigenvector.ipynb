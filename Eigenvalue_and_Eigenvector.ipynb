{
  "nbformat": 4,
  "nbformat_minor": 0,
  "metadata": {
    "colab": {
      "name": "Eigenvalue and Eigenvector.ipynb",
      "provenance": [],
      "authorship_tag": "ABX9TyPKp1nEx3y6S9WbdZ2/MQWB",
      "include_colab_link": true
    },
    "kernelspec": {
      "name": "python3",
      "display_name": "Python 3"
    },
    "language_info": {
      "name": "python"
    }
  },
  "cells": [
    {
      "cell_type": "markdown",
      "metadata": {
        "id": "view-in-github",
        "colab_type": "text"
      },
      "source": [
        "<a href=\"https://colab.research.google.com/github/adriyennKB/Linear-Algebra-58019/blob/main/Eigenvalue_and_Eigenvector.ipynb\" target=\"_parent\"><img src=\"https://colab.research.google.com/assets/colab-badge.svg\" alt=\"Open In Colab\"/></a>"
      ]
    },
    {
      "cell_type": "code",
      "source": [
        "import numpy as np  #Import Library\n",
        "from numpy.linalg import eig\n",
        "#from scipy.linalg import solve"
      ],
      "metadata": {
        "id": "3SA3ygV_VjXx"
      },
      "execution_count": null,
      "outputs": []
    },
    {
      "cell_type": "code",
      "execution_count": null,
      "metadata": {
        "colab": {
          "base_uri": "https://localhost:8080/"
        },
        "id": "3MaY-mYZdAG3",
        "outputId": "2eaff4be-86c3-4559-9d03-4e3428dce19d"
      },
      "outputs": [
        {
          "output_type": "stream",
          "name": "stdout",
          "text": [
            "Matrix A:\n",
            " [[-12   3]\n",
            " [  4   1]]\n",
            "\n",
            "Inverse of Matrix A:\n",
            "[[-0.04166667  0.125     ]\n",
            " [ 0.16666667  0.5       ]]\n",
            "\n",
            "Matrix B:\n",
            " [[0]\n",
            " [0]]\n",
            "\n",
            "Dot product:\n",
            "[[0.]\n",
            " [0.]]\n"
          ]
        }
      ],
      "source": [
        "A = np.array([[-12, 3],[4, 1]]) # create matrix A\n",
        "print(f'Matrix A:\\n {A}') # print matrix A\n",
        "\n",
        "inv_A = np.linalg.inv(A)  #inverse of matrix A\n",
        "print(f'\\nInverse of Matrix A:\\n{inv_A}') #print the inverse of matrix A\n",
        "\n",
        "B = np.array([[0],[0]]) #create matrix B\n",
        "print(f'\\nMatrix B:\\n {B}') #print matrix B\n",
        "\n",
        "X = np.dot(inv_A, B) #dot product of the inverse of matrix A and matrix B\n",
        "print(f'\\nDot product:\\n{X}') #print the solved dot product - wrong"
      ]
    },
    {
      "cell_type": "markdown",
      "source": [
        "##Example 1\n"
      ],
      "metadata": {
        "id": "M_9g8BzMdYxx"
      }
    },
    {
      "cell_type": "code",
      "source": [
        "A = np.array([[-6,3],[4,5]]) #creation of Matrix\n",
        "print(f'Matrix A:\\n{A}') #to print or display\n",
        "\n",
        "w,v = np.linalg.eig(A) # use the eig method in order to get the eigenvalue and eigenvector of a square matrix A\n",
        "#to print or display the eigenvalues and eigenvectors\n",
        "print(f'The eigenvalue/s is/are:\\n {w}')\n",
        "print(f'The right eigenvectors are:\\n {v}')\n",
        "#x = v.round()\n",
        "#print(x) # print the rounded eigenvectors"
      ],
      "metadata": {
        "colab": {
          "base_uri": "https://localhost:8080/"
        },
        "id": "jbU_bUDpdGoe",
        "outputId": "71a316ec-560b-4c12-f6d7-a53b63f23522"
      },
      "execution_count": null,
      "outputs": [
        {
          "output_type": "stream",
          "name": "stdout",
          "text": [
            "Matrix A:\n",
            "[[-6  3]\n",
            " [ 4  5]]\n",
            "The eigenvalue/s is/are:\n",
            " [-7.  6.]\n",
            "The right eigenvectors are:\n",
            " [[-0.9486833  -0.24253563]\n",
            " [ 0.31622777 -0.9701425 ]]\n"
          ]
        }
      ]
    },
    {
      "cell_type": "markdown",
      "source": [
        "##Example 2"
      ],
      "metadata": {
        "id": "gc6SZZHEdbjb"
      }
    },
    {
      "cell_type": "code",
      "source": [
        "A = np.array([[2,2,4],[1,3,5],[2,3,4]]) #Creation of Matrix A\n",
        "print(A) #to print or display\n",
        "s,t = np.linalg.eig(A) # use the eig method in order to get the eigenvalue and eigenvector of a square matrix A\n",
        "#print or display eigenvalues and eigenvectors\n",
        "print(f'\\nThe Eigenvalue/s is/are: {s.round()}')\n",
        "print(f'\\nThe right Eigenvectors are: \\n{t.round()}\\n')\n",
        "c = np.dot(A,t.round()) #dot product of A and t\n",
        "print(c) #to print or display"
      ],
      "metadata": {
        "colab": {
          "base_uri": "https://localhost:8080/"
        },
        "id": "L3sBreqjdJUz",
        "outputId": "d2359bf7-6407-46ae-e250-7fde9c1a1dcb"
      },
      "execution_count": null,
      "outputs": [
        {
          "output_type": "stream",
          "name": "stdout",
          "text": [
            "[[2 2 4]\n",
            " [1 3 5]\n",
            " [2 3 4]]\n",
            "\n",
            "The Eigenvalue/s is/are: [ 9.  1. -1.]\n",
            "\n",
            "The right Eigenvectors are: \n",
            "[[-1. -1. -0.]\n",
            " [-1.  1. -1.]\n",
            " [-1. -0.  1.]]\n",
            "\n",
            "[[-8.  0.  2.]\n",
            " [-9.  2.  2.]\n",
            " [-9.  1.  1.]]\n"
          ]
        }
      ]
    }
  ]
}