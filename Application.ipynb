{
  "nbformat": 4,
  "nbformat_minor": 0,
  "metadata": {
    "colab": {
      "name": "Application.ipynb",
      "provenance": [],
      "authorship_tag": "ABX9TyPXH/IZRcQCkiEuLhU4E4Lt",
      "include_colab_link": true
    },
    "kernelspec": {
      "name": "python3",
      "display_name": "Python 3"
    },
    "language_info": {
      "name": "python"
    }
  },
  "cells": [
    {
      "cell_type": "markdown",
      "metadata": {
        "id": "view-in-github",
        "colab_type": "text"
      },
      "source": [
        "<a href=\"https://colab.research.google.com/github/adriyennKB/Linear-Algebra-58019/blob/main/Application.ipynb\" target=\"_parent\"><img src=\"https://colab.research.google.com/assets/colab-badge.svg\" alt=\"Open In Colab\"/></a>"
      ]
    },
    {
      "cell_type": "code",
      "metadata": {
        "colab": {
          "base_uri": "https://localhost:8080/"
        },
        "id": "-HDPOGkAEs7W",
        "outputId": "10b5bedb-f9ba-4acf-99b6-37852ef6891c"
      },
      "source": [
        "import numpy as np\n",
        "from scipy.linalg import solve\n",
        "A = np.array([[20,10],[17,22]]) #Creation of 2x2 Matrix\n",
        "B = np.array([[350],[500]]) #Creation of Matrix\n",
        "\n",
        "#to print\n",
        "print(A)\n",
        "print()\n",
        "print(B)\n",
        "print()\n",
        "\n",
        "X= np.linalg.solve(A,B) #way to solve \n",
        "print(X)\n",
        "\n",
        "X= solve(A,B) #solving using scipy library\n",
        "print()\n",
        "print(X)"
      ],
      "execution_count": 12,
      "outputs": [
        {
          "output_type": "stream",
          "name": "stdout",
          "text": [
            "[[20 10]\n",
            " [17 22]]\n",
            "\n",
            "[[350]\n",
            " [500]]\n",
            "\n",
            "[[10.]\n",
            " [15.]]\n",
            "\n",
            "[[10.]\n",
            " [15.]]\n"
          ]
        }
      ]
    },
    {
      "cell_type": "code",
      "metadata": {
        "colab": {
          "base_uri": "https://localhost:8080/"
        },
        "id": "pKkO2BnjHPgS",
        "outputId": "31014375-5fac-4b68-e9a2-00135fa2934c"
      },
      "source": [
        "inv_A = np.linalg.inv(A) #To inverse A\n",
        "print(inv_A)\n",
        "\n",
        "X = np.linalg.inv(A).dot(B) #dot product of Inv of A and B\n",
        "print(X)"
      ],
      "execution_count": 6,
      "outputs": [
        {
          "output_type": "stream",
          "name": "stdout",
          "text": [
            "[[ 0.08148148 -0.03703704]\n",
            " [-0.06296296  0.07407407]]\n",
            "[[10.]\n",
            " [15.]]\n"
          ]
        }
      ]
    },
    {
      "cell_type": "code",
      "metadata": {
        "colab": {
          "base_uri": "https://localhost:8080/"
        },
        "id": "krLrQbbyHmEv",
        "outputId": "90f10794-4abf-47fe-8aea-b60158c10ad0"
      },
      "source": [
        "X = np.dot(inv_A,B) #Checking\n",
        "X"
      ],
      "execution_count": 7,
      "outputs": [
        {
          "output_type": "execute_result",
          "data": {
            "text/plain": [
              "array([[10.],\n",
              "       [15.]])"
            ]
          },
          "metadata": {},
          "execution_count": 7
        }
      ]
    },
    {
      "cell_type": "markdown",
      "metadata": {
        "id": "6dgQojg2LCol"
      },
      "source": [
        "##Solving for three linear equations with unknown variables of x, y, and z"
      ]
    },
    {
      "cell_type": "code",
      "metadata": {
        "colab": {
          "base_uri": "https://localhost:8080/"
        },
        "id": "zPvIgEcZLASf",
        "outputId": "5779829a-6fd9-451e-e229-e5bb2cd246ad"
      },
      "source": [
        "#4x+3y+2z=25\n",
        "#-2x-2y+3z=-10\n",
        "# 3x-5y+2z=-4\n",
        "\n",
        "A= np.array([[4,3,2],[-2,2,3],[3,-5,2]]) #Creation of 3x3 Matrix\n",
        "B= np.array([[25],[-10],[-4]]) #Creation of Matrix\n",
        "\n",
        "#To Print\n",
        "print(A)\n",
        "print(B)\n",
        "X= solve(A,B) #Solving using scipy\n",
        "print(\"The Solution is:\")\n",
        "print(X)"
      ],
      "execution_count": 21,
      "outputs": [
        {
          "output_type": "stream",
          "name": "stdout",
          "text": [
            "[[ 4  3  2]\n",
            " [-2  2  3]\n",
            " [ 3 -5  2]]\n",
            "[[ 25]\n",
            " [-10]\n",
            " [ -4]]\n",
            "The Solution is:\n",
            "[[ 5.]\n",
            " [ 3.]\n",
            " [-2.]]\n"
          ]
        }
      ]
    }
  ]
}