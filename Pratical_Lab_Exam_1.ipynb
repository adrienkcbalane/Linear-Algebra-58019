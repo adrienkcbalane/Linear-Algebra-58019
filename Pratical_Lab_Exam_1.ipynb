{
  "nbformat": 4,
  "nbformat_minor": 0,
  "metadata": {
    "colab": {
      "name": "Pratical Lab Exam 1.ipynb",
      "provenance": [],
      "authorship_tag": "ABX9TyMOaLqMtuK1SZXJdLUu65qI",
      "include_colab_link": true
    },
    "kernelspec": {
      "name": "python3",
      "display_name": "Python 3"
    },
    "language_info": {
      "name": "python"
    }
  },
  "cells": [
    {
      "cell_type": "markdown",
      "metadata": {
        "id": "view-in-github",
        "colab_type": "text"
      },
      "source": [
        "<a href=\"https://colab.research.google.com/github/adriyennKB/Linear-Algebra-58019/blob/main/Pratical_Lab_Exam_1.ipynb\" target=\"_parent\"><img src=\"https://colab.research.google.com/assets/colab-badge.svg\" alt=\"Open In Colab\"/></a>"
      ]
    },
    {
      "cell_type": "markdown",
      "metadata": {
        "id": "fVOtficEoAkh"
      },
      "source": [
        "#Practical Lab Exam 1"
      ]
    },
    {
      "cell_type": "markdown",
      "metadata": {
        "id": "coOoMxS8qOsB"
      },
      "source": [
        "## Problem 1  \n",
        "##a. AB\n",
        "##b. D+D\n",
        "##c. 2C\n",
        "\n"
      ]
    },
    {
      "cell_type": "code",
      "metadata": {
        "colab": {
          "base_uri": "https://localhost:8080/"
        },
        "id": "oEr0TPadn8j9",
        "outputId": "0430b26c-d6c7-4778-e85f-4f0ad3a9987f"
      },
      "source": [
        "import numpy as np\n",
        "A = np.array([[1,2,3],[4,5,6]])\n",
        "B = np.array([[1,2],[3,4],[5,6]]) \n",
        "C = np.array([[1,2,3],[4,5,6],[7,8,9]])\n",
        "D = np.array([[1,2],[3,4]]) \n",
        "\n",
        "dotA= np.dot(A,B)\n",
        "b = np.add(D,D)\n",
        "c = 2*C\n",
        "\n",
        "print('Problem1')\n",
        "print(\"\\nA.\")\n",
        "print(dotA)\n",
        "print(\"\\nB.\")\n",
        "print(b)\n",
        "print(\"\\nC.\")\n",
        "print(c)\n",
        "\n"
      ],
      "execution_count": 56,
      "outputs": [
        {
          "output_type": "stream",
          "name": "stdout",
          "text": [
            "Problem1\n",
            "\n",
            "A.\n",
            "[[22 28]\n",
            " [49 64]]\n",
            "\n",
            "B.\n",
            "[[2 4]\n",
            " [6 8]]\n",
            "\n",
            "C.\n",
            "[[ 2  4  6]\n",
            " [ 8 10 12]\n",
            " [14 16 18]]\n"
          ]
        }
      ]
    },
    {
      "cell_type": "markdown",
      "metadata": {
        "id": "q6QA1F0hvTBZ"
      },
      "source": [
        "##Problem 2"
      ]
    },
    {
      "cell_type": "code",
      "metadata": {
        "colab": {
          "base_uri": "https://localhost:8080/"
        },
        "id": "LzHTi59Yz-RG",
        "outputId": "6d2452dc-b6ee-4647-e37a-1669e664510e"
      },
      "source": [
        "import numpy as np\n",
        "X = np.array([5,3,-1])\n",
        "\n",
        "print('Problem2\\n')\n",
        "print(X)\n",
        "print('\\nsize of array : ', X.size)\n",
        "print('type of array', type(X))\n",
        "print('shape of array: ', X.shape)\n",
        "print('dimension of array:', X.ndim)"
      ],
      "execution_count": 58,
      "outputs": [
        {
          "output_type": "stream",
          "name": "stdout",
          "text": [
            "Problem2\n",
            "\n",
            "[ 5  3 -1]\n",
            "\n",
            "size of array :  3\n",
            "type of array <class 'numpy.ndarray'>\n",
            "shape of array:  (3,)\n",
            "dimension of array: 1\n"
          ]
        }
      ]
    }
  ]
}