{
  "nbformat": 4,
  "nbformat_minor": 0,
  "metadata": {
    "colab": {
      "name": "Linear Transformation.ipynb",
      "provenance": [],
      "authorship_tag": "ABX9TyPAndJ9yxkgFaGek/dkpslT",
      "include_colab_link": true
    },
    "kernelspec": {
      "name": "python3",
      "display_name": "Python 3"
    },
    "language_info": {
      "name": "python"
    }
  },
  "cells": [
    {
      "cell_type": "markdown",
      "metadata": {
        "id": "view-in-github",
        "colab_type": "text"
      },
      "source": [
        "<a href=\"https://colab.research.google.com/github/adriyennKB/Linear-Algebra-58019/blob/main/Linear_Transformation.ipynb\" target=\"_parent\"><img src=\"https://colab.research.google.com/assets/colab-badge.svg\" alt=\"Open In Colab\"/></a>"
      ]
    },
    {
      "cell_type": "markdown",
      "metadata": {
        "id": "N1eBlFHIDQ3A"
      },
      "source": [
        "##To find the Inverse of a Matrix, the matrix is passed to the linalg.Inv() of the NumPy module:"
      ]
    },
    {
      "cell_type": "code",
      "metadata": {
        "colab": {
          "base_uri": "https://localhost:8080/"
        },
        "id": "73_8xbDsADL1",
        "outputId": "0c73acd8-b39d-4d32-d381-ef31ff195f63"
      },
      "source": [
        "import numpy as np\n",
        "A= np.array([[4,3],[-5,9]]) #Creation of matrix A\n",
        "print(A) #to display or print\n",
        "\n",
        "inv_A = np.linalg.inv(A) #to declare and creation of Inverse of A\n",
        "print(inv_A) #to display or print"
      ],
      "execution_count": 5,
      "outputs": [
        {
          "output_type": "stream",
          "name": "stdout",
          "text": [
            "[[ 4  3]\n",
            " [-5  9]]\n",
            "[[ 0.17647059 -0.05882353]\n",
            " [ 0.09803922  0.07843137]]\n"
          ]
        }
      ]
    },
    {
      "cell_type": "code",
      "metadata": {
        "colab": {
          "base_uri": "https://localhost:8080/"
        },
        "id": "uJpSA_orEWPA",
        "outputId": "f35efca0-c59a-468c-a809-fdbee9a99e9a"
      },
      "source": [
        "B= np.array([[20],[26]]) #creation of Matrix B\n",
        "print(B)"
      ],
      "execution_count": 8,
      "outputs": [
        {
          "output_type": "stream",
          "name": "stdout",
          "text": [
            "[[20]\n",
            " [26]]\n"
          ]
        }
      ]
    },
    {
      "cell_type": "code",
      "metadata": {
        "colab": {
          "base_uri": "https://localhost:8080/"
        },
        "id": "5Pa3yEbIGB8S",
        "outputId": "7837214c-a066-406e-c426-2ce723bc39d5"
      },
      "source": [
        "X= np.linalg.inv(A).dot(B) #compute for the dot product of Inv of A & value of B\n",
        "print(X)\n"
      ],
      "execution_count": 9,
      "outputs": [
        {
          "output_type": "stream",
          "name": "stdout",
          "text": [
            "[[2.]\n",
            " [4.]]\n"
          ]
        }
      ]
    },
    {
      "cell_type": "code",
      "metadata": {
        "colab": {
          "base_uri": "https://localhost:8080/"
        },
        "id": "ws_GyDjpGfgx",
        "outputId": "0820dc36-1834-4342-9b6d-ecefef859a34"
      },
      "source": [
        "X= np.dot(inv_A,B) #to compute for the dot product of Inv of A and B\n",
        "print(X)"
      ],
      "execution_count": 11,
      "outputs": [
        {
          "output_type": "stream",
          "name": "stdout",
          "text": [
            "[[2.]\n",
            " [4.]]\n"
          ]
        }
      ]
    },
    {
      "cell_type": "markdown",
      "metadata": {
        "id": "4fVLqRtxKuCi"
      },
      "source": [
        "##You Try!"
      ]
    },
    {
      "cell_type": "code",
      "metadata": {
        "colab": {
          "base_uri": "https://localhost:8080/"
        },
        "id": "4Io7qJT6JLcp",
        "outputId": "0a4d84fa-d52b-4df5-b1b6-65ac28685de3"
      },
      "source": [
        "X = np.array([[4,3,2],[-2,2,3],[3,-5,2]]) #creation of Matrix X\n",
        "y = np.array([[25],[-10],[-4]]) #creation of Matix y\n",
        "\n",
        "inv_X = np.linalg.inv(X) #to Inverse the Matrix X\n",
        "b = np.linalg.inv(X).dot(y) #To get dot product of Inverse of X and y\n",
        "\n",
        "#to print or display\n",
        "print(X)\n",
        "print()\n",
        "print(inv_X)\n",
        "print()\n",
        "print(y)\n",
        "print()\n",
        "print(b)\n",
        "\n",
        "\n"
      ],
      "execution_count": 29,
      "outputs": [
        {
          "output_type": "stream",
          "name": "stdout",
          "text": [
            "[[ 4  3  2]\n",
            " [-2  2  3]\n",
            " [ 3 -5  2]]\n",
            "\n",
            "[[ 0.15447154 -0.1300813   0.04065041]\n",
            " [ 0.10569106  0.01626016 -0.1300813 ]\n",
            " [ 0.03252033  0.23577236  0.11382114]]\n",
            "\n",
            "[[ 25]\n",
            " [-10]\n",
            " [ -4]]\n",
            "\n",
            "[[ 5.]\n",
            " [ 3.]\n",
            " [-2.]]\n"
          ]
        }
      ]
    },
    {
      "cell_type": "code",
      "metadata": {
        "colab": {
          "base_uri": "https://localhost:8080/"
        },
        "id": "cMQ0G6JyMKYM",
        "outputId": "20934425-27b2-49ba-ec04-a6b7c202ef3a"
      },
      "source": [
        "A= np.array([[20,10],[17,22]]) #creation of Matrix A\n",
        "print(A)\n",
        "inv_A = np.linalg.inv(A) #Inverse of matrix A\n",
        "print(inv_A)"
      ],
      "execution_count": 27,
      "outputs": [
        {
          "output_type": "stream",
          "name": "stdout",
          "text": [
            "[[20 10]\n",
            " [17 22]]\n",
            "[[ 0.08148148 -0.03703704]\n",
            " [-0.06296296  0.07407407]]\n"
          ]
        }
      ]
    },
    {
      "cell_type": "code",
      "metadata": {
        "colab": {
          "base_uri": "https://localhost:8080/"
        },
        "id": "xv0WJJbqMiGL",
        "outputId": "3c8ca4d7-d0c8-4bf6-fa36-8b08f6e13170"
      },
      "source": [
        "B= np.array([[350],[500]]) #Creation of Matrix B\n",
        "print(B)"
      ],
      "execution_count": 26,
      "outputs": [
        {
          "output_type": "stream",
          "name": "stdout",
          "text": [
            "[[350]\n",
            " [500]]\n"
          ]
        }
      ]
    },
    {
      "cell_type": "code",
      "metadata": {
        "colab": {
          "base_uri": "https://localhost:8080/"
        },
        "id": "3TmNwREbMuBz",
        "outputId": "eddb0793-5a80-40f5-a7a0-ec097acc030b"
      },
      "source": [
        "X = np.dot(inv_A,B) #To get dot product of Inverse of A and B\n",
        "\n",
        "print(X)"
      ],
      "execution_count": 25,
      "outputs": [
        {
          "output_type": "stream",
          "name": "stdout",
          "text": [
            "[[10.]\n",
            " [15.]]\n"
          ]
        }
      ]
    },
    {
      "cell_type": "markdown",
      "metadata": {
        "id": "k7tvgXocNnVk"
      },
      "source": [
        "###To check if the answer is correct"
      ]
    },
    {
      "cell_type": "code",
      "metadata": {
        "colab": {
          "base_uri": "https://localhost:8080/"
        },
        "id": "_ExYrVqYNp50",
        "outputId": "81831662-853a-46ea-dabe-169300db1c8c"
      },
      "source": [
        "B = np.dot(A,X)\n",
        "print(B)"
      ],
      "execution_count": 28,
      "outputs": [
        {
          "output_type": "stream",
          "name": "stdout",
          "text": [
            "[[350.]\n",
            " [500.]]\n"
          ]
        }
      ]
    }
  ]
}