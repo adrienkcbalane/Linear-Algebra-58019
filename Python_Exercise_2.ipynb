{
  "nbformat": 4,
  "nbformat_minor": 0,
  "metadata": {
    "colab": {
      "name": "Python Exercise 2.ipynb",
      "provenance": [],
      "collapsed_sections": [],
      "authorship_tag": "ABX9TyNJ1buQ1DHQlrSzv6M6ucJF",
      "include_colab_link": true
    },
    "kernelspec": {
      "name": "python3",
      "display_name": "Python 3"
    },
    "language_info": {
      "name": "python"
    }
  },
  "cells": [
    {
      "cell_type": "markdown",
      "metadata": {
        "id": "view-in-github",
        "colab_type": "text"
      },
      "source": [
        "<a href=\"https://colab.research.google.com/github/adriyennKB/Linear-Algebra-58019/blob/main/Python_Exercise_2.ipynb\" target=\"_parent\"><img src=\"https://colab.research.google.com/assets/colab-badge.svg\" alt=\"Open In Colab\"/></a>"
      ]
    },
    {
      "cell_type": "markdown",
      "metadata": {
        "id": "qZmIG7531IjX"
      },
      "source": [
        "##Vector Space Operations"
      ]
    },
    {
      "cell_type": "markdown",
      "metadata": {
        "id": "DqaUxzhBnbZ6"
      },
      "source": [
        "##Representing Vectors"
      ]
    },
    {
      "cell_type": "code",
      "metadata": {
        "colab": {
          "base_uri": "https://localhost:8080/"
        },
        "id": "sn9nGW8sj38j",
        "outputId": "4ea4ddba-a3ab-47be-d88c-b8fe545a36b3"
      },
      "source": [
        "import numpy as np\n",
        "A = np.array([4,3])\n",
        "B = np.array([2,-5])\n",
        "print('Vector A is', A)\n",
        "print('Vector B is' , B)"
      ],
      "execution_count": 4,
      "outputs": [
        {
          "output_type": "stream",
          "name": "stdout",
          "text": [
            "Vector A is [4 3]\n",
            "Vector B is [ 2 -5]\n"
          ]
        }
      ]
    },
    {
      "cell_type": "markdown",
      "metadata": {
        "id": "Il0haLZpo3hR"
      },
      "source": [
        "##Describing Vectors in Numpy"
      ]
    },
    {
      "cell_type": "code",
      "metadata": {
        "colab": {
          "base_uri": "https://localhost:8080/"
        },
        "id": "UqOy-3Avoqz6",
        "outputId": "973746cc-5f86-45be-8e4d-6fb432492b37"
      },
      "source": [
        "###Checking shapes\n",
        "###Shapes tells us how many rows and columns are there\n",
        "\n",
        "import numpy as np\n",
        "ball1= np.array([1,2,3])\n",
        "ball2= np.array([0,1,-1])\n",
        "pool = np.array([ball1,ball2])\n",
        "pool.shape\n"
      ],
      "execution_count": 10,
      "outputs": [
        {
          "output_type": "execute_result",
          "data": {
            "text/plain": [
              "(2, 3)"
            ]
          },
          "metadata": {},
          "execution_count": 10
        }
      ]
    },
    {
      "cell_type": "code",
      "metadata": {
        "colab": {
          "base_uri": "https://localhost:8080/"
        },
        "id": "NlicmYKhqaZy",
        "outputId": "7ec569a8-6e38-480b-d5bd-9798ada1813c"
      },
      "source": [
        "###Checking shapes\n",
        "###Shapes tells us how many rows and columns are there\n",
        "\n",
        "import numpy as np\n",
        "ball1= np.array([1,2,3])\n",
        "ball2= np.array([0,1,-1])\n",
        "pool = np.array([ball1,ball2])\n",
        "pool.shape\n",
        "pool.ndim"
      ],
      "execution_count": 11,
      "outputs": [
        {
          "output_type": "execute_result",
          "data": {
            "text/plain": [
              "2"
            ]
          },
          "metadata": {},
          "execution_count": 11
        }
      ]
    },
    {
      "cell_type": "code",
      "metadata": {
        "colab": {
          "base_uri": "https://localhost:8080/"
        },
        "id": "zWiqPUXJqdyU",
        "outputId": "50f52e69-0e09-4903-97bf-7f9e4c7d9f74"
      },
      "source": [
        "U= np.array(([1,2,3],[4,5,6]))\n",
        "U"
      ],
      "execution_count": 14,
      "outputs": [
        {
          "output_type": "execute_result",
          "data": {
            "text/plain": [
              "array([[1, 2, 3],\n",
              "       [4, 5, 6]])"
            ]
          },
          "metadata": {},
          "execution_count": 14
        }
      ]
    },
    {
      "cell_type": "code",
      "metadata": {
        "colab": {
          "base_uri": "https://localhost:8080/"
        },
        "id": "xNraBxg8q4bZ",
        "outputId": "8c9cdb3b-5526-4088-cbd1-ec2d4eef34ba"
      },
      "source": [
        "U= np.array(([1,2,3],[4,5,6]))\n",
        "U.shape"
      ],
      "execution_count": 15,
      "outputs": [
        {
          "output_type": "execute_result",
          "data": {
            "text/plain": [
              "(2, 3)"
            ]
          },
          "metadata": {},
          "execution_count": 15
        }
      ]
    },
    {
      "cell_type": "code",
      "metadata": {
        "colab": {
          "base_uri": "https://localhost:8080/"
        },
        "id": "Y7P7smOoq_KQ",
        "outputId": "ccb68aed-4095-4419-d2ce-44a62d00bad3"
      },
      "source": [
        "U= np.array(([1,2,3],[4,5,6]))\n",
        "U.ndim"
      ],
      "execution_count": 16,
      "outputs": [
        {
          "output_type": "execute_result",
          "data": {
            "text/plain": [
              "2"
            ]
          },
          "metadata": {},
          "execution_count": 16
        }
      ]
    },
    {
      "cell_type": "code",
      "metadata": {
        "colab": {
          "base_uri": "https://localhost:8080/"
        },
        "id": "Cipii1UYrBsQ",
        "outputId": "4b604adf-a58a-4375-bca9-fbf3b261cd56"
      },
      "source": [
        "U= np.array(([1,2,3],[4,5,6]))\n",
        "U.size"
      ],
      "execution_count": 17,
      "outputs": [
        {
          "output_type": "execute_result",
          "data": {
            "text/plain": [
              "6"
            ]
          },
          "metadata": {},
          "execution_count": 17
        }
      ]
    },
    {
      "cell_type": "markdown",
      "metadata": {
        "id": "8scLG4BMrwUo"
      },
      "source": [
        "##Space"
      ]
    },
    {
      "cell_type": "markdown",
      "metadata": {
        "id": "FS8HIVsNr_iw"
      },
      "source": [
        "##Vector spaces are mathematical objects that abstractly capture the geometry and algebra of linear equations"
      ]
    },
    {
      "cell_type": "markdown",
      "metadata": {
        "id": "48qXOdQTtVQJ"
      },
      "source": [
        "###Addition of Vectors"
      ]
    },
    {
      "cell_type": "code",
      "metadata": {
        "colab": {
          "base_uri": "https://localhost:8080/"
        },
        "id": "3-YK8mQEtaQ6",
        "outputId": "14f60c98-5c2e-4c7c-b07b-e699b8412e22"
      },
      "source": [
        "addend1= np.array([0,0,0])\n",
        "addend2= np.array([1,1,0])\n",
        "sum= addend1 + addend2\n",
        "sum"
      ],
      "execution_count": 22,
      "outputs": [
        {
          "output_type": "execute_result",
          "data": {
            "text/plain": [
              "array([1, 1, 0])"
            ]
          },
          "metadata": {},
          "execution_count": 22
        }
      ]
    },
    {
      "cell_type": "code",
      "metadata": {
        "colab": {
          "base_uri": "https://localhost:8080/"
        },
        "id": "gdTrWOd8t-sB",
        "outputId": "16c17cb4-39c5-48ab-9fd4-8ee4cb7dc52a"
      },
      "source": [
        "addend1= np.array([0,0,0])\n",
        "addend2= np.array([1,1,0])\n",
        "resultant= np.add(addend1,addend2)\n",
        "resultant"
      ],
      "execution_count": 26,
      "outputs": [
        {
          "output_type": "execute_result",
          "data": {
            "text/plain": [
              "array([1, 1, 0])"
            ]
          },
          "metadata": {},
          "execution_count": 26
        }
      ]
    },
    {
      "cell_type": "markdown",
      "metadata": {
        "id": "ISMf0AUkvApe"
      },
      "source": [
        "###Subtraction of Vector"
      ]
    },
    {
      "cell_type": "code",
      "metadata": {
        "colab": {
          "base_uri": "https://localhost:8080/"
        },
        "id": "Wn_87MmdryKB",
        "outputId": "9f27987c-d63a-49cb-98f0-099ccf7cce85"
      },
      "source": [
        "addend1= np.array([0,0,0])\n",
        "addend2= np.array([1,1,0])\n",
        "diff= addend1 - addend2\n",
        "diff"
      ],
      "execution_count": 28,
      "outputs": [
        {
          "output_type": "execute_result",
          "data": {
            "text/plain": [
              "array([-1, -1,  0])"
            ]
          },
          "metadata": {},
          "execution_count": 28
        }
      ]
    },
    {
      "cell_type": "markdown",
      "metadata": {
        "id": "7xTF9b5OwOw_"
      },
      "source": [
        "###Multiplication of Vector"
      ]
    },
    {
      "cell_type": "code",
      "metadata": {
        "colab": {
          "base_uri": "https://localhost:8080/"
        },
        "id": "vXMR9xABwSMH",
        "outputId": "8694b5be-dec4-4add-a052-a77fffec868f"
      },
      "source": [
        "A= np.array([1,5,8,9])\n",
        "S= 5*A\n",
        "S"
      ],
      "execution_count": 31,
      "outputs": [
        {
          "output_type": "execute_result",
          "data": {
            "text/plain": [
              "array([ 5, 25, 40, 45])"
            ]
          },
          "metadata": {},
          "execution_count": 31
        }
      ]
    },
    {
      "cell_type": "markdown",
      "metadata": {
        "id": "w8sgNkRzw3wX"
      },
      "source": [
        "###Cross Product"
      ]
    },
    {
      "cell_type": "code",
      "metadata": {
        "colab": {
          "base_uri": "https://localhost:8080/"
        },
        "id": "zEiHw_b1w7L_",
        "outputId": "5a909e55-fd00-4190-cf47-68a347d54613"
      },
      "source": [
        "import numpy as np\n",
        "c\n",
        "output= np.cross(A,B)\n",
        "output\n"
      ],
      "execution_count": 35,
      "outputs": [
        {
          "output_type": "execute_result",
          "data": {
            "text/plain": [
              "array(11)"
            ]
          },
          "metadata": {},
          "execution_count": 35
        }
      ]
    },
    {
      "cell_type": "code",
      "metadata": {
        "colab": {
          "base_uri": "https://localhost:8080/"
        },
        "id": "CciSV0RSyiYH",
        "outputId": "f8b9c895-9d00-442e-9249-8bb16f875ad3"
      },
      "source": [
        "import numpy as np\n",
        "A = np.array([2,3,4])\n",
        "B = np.array([1,7,1])\n",
        "output= np.cross(A,B)\n",
        "output"
      ],
      "execution_count": 36,
      "outputs": [
        {
          "output_type": "execute_result",
          "data": {
            "text/plain": [
              "array([-25,   2,  11])"
            ]
          },
          "metadata": {},
          "execution_count": 36
        }
      ]
    },
    {
      "cell_type": "code",
      "metadata": {
        "colab": {
          "base_uri": "https://localhost:8080/"
        },
        "id": "Y5mZv9L70QpG",
        "outputId": "ce8545f6-faa6-48eb-ab77-c3b15090a1de"
      },
      "source": [
        "import numpy as np\n",
        "A = np.array([2,3])\n",
        "B = np.array([1,7])\n",
        "dot= np.dot(A,B)\n",
        "dot"
      ],
      "execution_count": 37,
      "outputs": [
        {
          "output_type": "execute_result",
          "data": {
            "text/plain": [
              "23"
            ]
          },
          "metadata": {},
          "execution_count": 37
        }
      ]
    }
  ]
}