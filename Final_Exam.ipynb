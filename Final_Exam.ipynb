{
  "nbformat": 4,
  "nbformat_minor": 0,
  "metadata": {
    "colab": {
      "name": "Final Exam.ipynb",
      "provenance": [],
      "authorship_tag": "ABX9TyOa8NImaFQOw3lSL7QjhrcB",
      "include_colab_link": true
    },
    "kernelspec": {
      "name": "python3",
      "display_name": "Python 3"
    },
    "language_info": {
      "name": "python"
    }
  },
  "cells": [
    {
      "cell_type": "markdown",
      "metadata": {
        "id": "view-in-github",
        "colab_type": "text"
      },
      "source": [
        "<a href=\"https://colab.research.google.com/github/adriyennKB/Linear-Algebra-58019/blob/main/Final_Exam.ipynb\" target=\"_parent\"><img src=\"https://colab.research.google.com/assets/colab-badge.svg\" alt=\"Open In Colab\"/></a>"
      ]
    },
    {
      "cell_type": "markdown",
      "source": [
        "###Problem 1 Student A, Student B, and Student C have a total of Php 89 cash in their banks. Student A has 6 less than Student C. Student B has 3 times what Student C has. How much does each student have?"
      ],
      "metadata": {
        "id": "Nm96UGhvGxxu"
      }
    },
    {
      "cell_type": "code",
      "execution_count": 43,
      "metadata": {
        "colab": {
          "base_uri": "https://localhost:8080/"
        },
        "id": "9I5P29OuGsf7",
        "outputId": "9f51f45f-6969-469c-fa7f-e9e6442e30dd"
      },
      "outputs": [
        {
          "output_type": "stream",
          "name": "stdout",
          "text": [
            "[[13.]\n",
            " [57.]\n",
            " [19.]]\n"
          ]
        }
      ],
      "source": [
        "import numpy as np #Matrix Operator\n",
        "\n",
        "e1= np.array([[1,1,1],[1,0,4],[0,0,5]]) #creation of Matrix e1\n",
        "e2= np.array([[89],[89],[95]]) #creation of Matrix e2\n",
        "amnt= np.linalg.inv(e1).dot(e2) #solve using dot and inv of Matrix e1 and e2\n",
        "print(amnt) #to display or print"
      ]
    },
    {
      "cell_type": "markdown",
      "source": [
        "###Problem 2: 3x - y + z = 5, 9x - 3y +3z = 15, -12x +4y -4z = -20"
      ],
      "metadata": {
        "id": "nSiRCDRnG2dm"
      }
    },
    {
      "cell_type": "markdown",
      "source": [
        "###Explanation: By means of using just the np.linalg.inv, the code itself will result to an error message that says that it is a singular matrix\n",
        "###Also, since the matrix is singular due to the determinant is zero, so it will not be possible to inverse it.\n",
        "###So by means of using pseudo inverse of A or the approximate initial matrix, the code will go through/run."
      ],
      "metadata": {
        "id": "Lz7a08IvYpxC"
      }
    },
    {
      "cell_type": "code",
      "source": [
        "#Here i tried coding it by using pseudo inverse\n",
        "import numpy as np\n",
        "A= np.array([[3,-1,1],[9,-3,3],[-12,4,-4]]) #creation of Matrix A\n",
        "print(f'Matrix A: \\n {A}') #to display or print\n",
        "\n",
        "pinv_A= np.linalg.pinv(A) #to compute the pseudo inverse of A\n",
        "#Explanation: By means of using just the np.linalg.inv, the code itself will result to an error message that says that it is a singular matrix\n",
        "#Also, since the matrix is singular due to the determinant is zero, so it will not be possible to inverse it.\n",
        "#So by means of using pseudo inverse of A or the approximate initial matrix, the code will go through/run.\n",
        "print(f'\\nInverse of A: \\n {A}') #to display or print\n",
        "\n",
        "B= np.array([[5],[15],[-20]]) #creation of Matrix B\n",
        "print(f'\\nMatrix B:\\n {B}\\n') #to display or print\n",
        "\n",
        "X= np.dot(pinv_A,B) #to compute for the dot product of Inverse of A ang B\n",
        "print(X) #to display or print"
      ],
      "metadata": {
        "colab": {
          "base_uri": "https://localhost:8080/"
        },
        "id": "rNM3w5KASjbS",
        "outputId": "009c079f-01bd-4010-9136-f5c3997d9307"
      },
      "execution_count": 45,
      "outputs": [
        {
          "output_type": "stream",
          "name": "stdout",
          "text": [
            "Matrix A: \n",
            " [[  3  -1   1]\n",
            " [  9  -3   3]\n",
            " [-12   4  -4]]\n",
            "\n",
            "Inverse of A: \n",
            " [[  3  -1   1]\n",
            " [  9  -3   3]\n",
            " [-12   4  -4]]\n",
            "\n",
            "Matrix B:\n",
            " [[  5]\n",
            " [ 15]\n",
            " [-20]]\n",
            "\n",
            "[[ 1.36363636]\n",
            " [-0.45454545]\n",
            " [ 0.45454545]]\n"
          ]
        }
      ]
    },
    {
      "cell_type": "markdown",
      "source": [
        "###Problem 3  Consider the matrix"
      ],
      "metadata": {
        "id": "_uTmp_szG9EX"
      }
    },
    {
      "cell_type": "code",
      "source": [
        "import numpy as np\n",
        "from numpy.linalg import eig\n",
        "\n",
        "A = np.array([[8,5,-6],[-12,-9,12],[-3,-3,5]]) #Creation of Matrix A\n",
        "print(A) #to print or display\n",
        "s,t = np.linalg.eig(A) # use the eig method in order to get the eigenvalue and eigenvector of a square matrix A\n",
        "#print or display eigenvalues and eigenvectors\n",
        "print(f'\\nThe Eigenvalue/s is/are: {s.round()}')\n",
        "print(f'\\nThe right Eigenvectors are: \\n{t}')\n",
        "print(f'OR: \\n{t.round()}\\n') #rounded off version of the right Eigenvectors\n"
      ],
      "metadata": {
        "colab": {
          "base_uri": "https://localhost:8080/"
        },
        "id": "LAOIJRuiI1iE",
        "outputId": "3a213085-bf1e-454d-f2cb-a5d5867f4f43"
      },
      "execution_count": 6,
      "outputs": [
        {
          "output_type": "stream",
          "name": "stdout",
          "text": [
            "[[  8   5  -6]\n",
            " [-12  -9  12]\n",
            " [ -3  -3   5]]\n",
            "\n",
            "The Eigenvalue/s is/are: [-1.  3.  2.]\n",
            "\n",
            "The right Eigenvectors are: \n",
            "[[ 3.01511345e-01 -7.07106781e-01  7.07106781e-01]\n",
            " [-9.04534034e-01  7.07106781e-01  1.53837015e-15]\n",
            " [-3.01511345e-01 -2.26120075e-15  7.07106781e-01]]\n",
            "OR: \n",
            "[[ 0. -1.  1.]\n",
            " [-1.  1.  0.]\n",
            " [-0. -0.  1.]]\n",
            "\n"
          ]
        }
      ]
    }
  ]
}