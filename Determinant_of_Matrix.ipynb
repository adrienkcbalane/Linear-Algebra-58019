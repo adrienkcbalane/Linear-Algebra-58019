{
  "nbformat": 4,
  "nbformat_minor": 0,
  "metadata": {
    "colab": {
      "name": "Determinant of Matrix.ipynb",
      "provenance": [],
      "authorship_tag": "ABX9TyNiXqrMwAQXXjy36xoT30+Q",
      "include_colab_link": true
    },
    "kernelspec": {
      "name": "python3",
      "display_name": "Python 3"
    },
    "language_info": {
      "name": "python"
    }
  },
  "cells": [
    {
      "cell_type": "markdown",
      "metadata": {
        "id": "view-in-github",
        "colab_type": "text"
      },
      "source": [
        "<a href=\"https://colab.research.google.com/github/adriyennKB/Linear-Algebra-58019/blob/main/Determinant_of_Matrix.ipynb\" target=\"_parent\"><img src=\"https://colab.research.google.com/assets/colab-badge.svg\" alt=\"Open In Colab\"/></a>"
      ]
    },
    {
      "cell_type": "markdown",
      "metadata": {
        "id": "YBADZ93sDXdx"
      },
      "source": [
        "#Write a Python code to show as its solution. Save it as \"Determinant of Matrix\" in your GitHub repository."
      ]
    },
    {
      "cell_type": "code",
      "metadata": {
        "colab": {
          "base_uri": "https://localhost:8080/"
        },
        "id": "1M_hbgGj_qIb",
        "outputId": "7baaa910-da9c-4660-8369-225800a5046f"
      },
      "source": [
        "import numpy as np #numerical method of Python\n",
        "A = np.array([[1,2,-1],[4,6,-2],[-1,3,3]]) #declare the values of matrix\n",
        "print(A) #to print Matrix A\n",
        "print('\\nThe Determinant of A is:')\n",
        "print(round(np.linalg.det(A))) #To display the final answer of determinant of A and rounded off"
      ],
      "execution_count": 6,
      "outputs": [
        {
          "output_type": "stream",
          "name": "stdout",
          "text": [
            "[[ 1  2 -1]\n",
            " [ 4  6 -2]\n",
            " [-1  3  3]]\n",
            "\n",
            "The Determinant of A is:\n",
            "-14\n"
          ]
        }
      ]
    }
  ]
}