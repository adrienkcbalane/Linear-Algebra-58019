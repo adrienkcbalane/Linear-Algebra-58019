{
  "nbformat": 4,
  "nbformat_minor": 0,
  "metadata": {
    "colab": {
      "name": "Prelim Exam.ipynb",
      "provenance": [],
      "collapsed_sections": [],
      "authorship_tag": "ABX9TyMt3HRVf7fKMPwooVeZ+V8k",
      "include_colab_link": true
    },
    "kernelspec": {
      "name": "python3",
      "display_name": "Python 3"
    },
    "language_info": {
      "name": "python"
    }
  },
  "cells": [
    {
      "cell_type": "markdown",
      "metadata": {
        "id": "view-in-github",
        "colab_type": "text"
      },
      "source": [
        "<a href=\"https://colab.research.google.com/github/adriyennKB/Linear-Algebra-58019/blob/main/Prelim_Exam.ipynb\" target=\"_parent\"><img src=\"https://colab.research.google.com/assets/colab-badge.svg\" alt=\"Open In Colab\"/></a>"
      ]
    },
    {
      "cell_type": "markdown",
      "metadata": {
        "id": "k1ntQRxQqsz_"
      },
      "source": [
        "#Prelim Exam"
      ]
    },
    {
      "cell_type": "markdown",
      "metadata": {
        "id": "HTAF_iafqwNp"
      },
      "source": [
        "####Question 1. (20 points) Create a 4 x 4 matrix whose diagonal elements are all one (1's). Name it as matrix \"C\". Show your solutions using Python codes and do not forget to label them on the Text Cell."
      ]
    },
    {
      "cell_type": "code",
      "metadata": {
        "colab": {
          "base_uri": "https://localhost:8080/"
        },
        "id": "8k_IL0_Tqssg",
        "outputId": "cb60158a-831f-4363-ac21-252fb4184503"
      },
      "source": [
        "import numpy as np\n",
        "#declare the value of what value that is needed in the said Matrix which are all 1\n",
        "Z= np.array([1,1,1,1])\n",
        "C=np.diag(Z) #declare for the contents of variable Z to be diagonal\n",
        "\n",
        "print(C) #to display or print the matrix"
      ],
      "execution_count": 6,
      "outputs": [
        {
          "output_type": "stream",
          "name": "stdout",
          "text": [
            "[[1 0 0 0]\n",
            " [0 1 0 0]\n",
            " [0 0 1 0]\n",
            " [0 0 0 1]]\n"
          ]
        }
      ]
    },
    {
      "cell_type": "markdown",
      "metadata": {
        "id": "18R9OmWeq0mf"
      },
      "source": [
        "####Question 2. (20 points) In relation to Question 1, show a solution that doubles all the values of each element. Show your solutions using Python codes and do not forget to label them on the Text Cell."
      ]
    },
    {
      "cell_type": "code",
      "metadata": {
        "colab": {
          "base_uri": "https://localhost:8080/"
        },
        "id": "z-xzKa7_qsUw",
        "outputId": "73feef7a-6fc5-4402-e2f5-2b18f514c974"
      },
      "source": [
        "import numpy as np\n",
        "Z= np.array([1,1,1,1])\n",
        "C=np.diag(Z)\n",
        "\n",
        "#there are a lot of ways to double the values of each elements.\n",
        "#simply multiply the Matrix C to 2 so it will be doubled.\n",
        "print(C*2) #to display or print the output"
      ],
      "execution_count": 4,
      "outputs": [
        {
          "output_type": "stream",
          "name": "stdout",
          "text": [
            "[[2 0 0 0]\n",
            " [0 2 0 0]\n",
            " [0 0 2 0]\n",
            " [0 0 0 2]]\n"
          ]
        }
      ]
    },
    {
      "cell_type": "markdown",
      "metadata": {
        "id": "zvU24cDTq6Gg"
      },
      "source": [
        "####Question 3. (10 points) Find the cross-product of matrices, A = [2,7,4] and\n",
        "\n"
      ]
    },
    {
      "cell_type": "code",
      "metadata": {
        "colab": {
          "base_uri": "https://localhost:8080/"
        },
        "id": "IE_HNdE3qqHt",
        "outputId": "bdd41b02-1d9b-48c7-ee3d-be004e478f4c"
      },
      "source": [
        "import numpy as np\n",
        "A= np.array([2,7,4])\n",
        "B= np.array([3,9,8])\n",
        "\n",
        "#To compute the cross of A and B this will be used\n",
        "CrossAB= np.cross(A,B)\n",
        "print(CrossAB) #to display or print the output"
      ],
      "execution_count": 5,
      "outputs": [
        {
          "output_type": "stream",
          "name": "stdout",
          "text": [
            "[20 -4 -3]\n"
          ]
        }
      ]
    }
  ]
}