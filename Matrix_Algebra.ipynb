{
  "nbformat": 4,
  "nbformat_minor": 0,
  "metadata": {
    "colab": {
      "name": "Matrix Algebra.ipynb",
      "provenance": [],
      "authorship_tag": "ABX9TyOSDAxpL0kBgSI9eI9oDQvY",
      "include_colab_link": true
    },
    "kernelspec": {
      "name": "python3",
      "display_name": "Python 3"
    },
    "language_info": {
      "name": "python"
    }
  },
  "cells": [
    {
      "cell_type": "markdown",
      "metadata": {
        "id": "view-in-github",
        "colab_type": "text"
      },
      "source": [
        "<a href=\"https://colab.research.google.com/github/adriyennKB/Linear-Algebra-58019/blob/main/Matrix_Algebra.ipynb\" target=\"_parent\"><img src=\"https://colab.research.google.com/assets/colab-badge.svg\" alt=\"Open In Colab\"/></a>"
      ]
    },
    {
      "cell_type": "markdown",
      "metadata": {
        "id": "s9pr95UNCfWZ"
      },
      "source": [
        "#Demo of Python Program to Inverse, Transpose and the Coding Activity 3/Python Exercise 3"
      ]
    },
    {
      "cell_type": "markdown",
      "metadata": {
        "id": "Qbhmq-2xzYi2"
      },
      "source": [
        "##Python program to inverse"
      ]
    },
    {
      "cell_type": "code",
      "metadata": {
        "colab": {
          "base_uri": "https://localhost:8080/"
        },
        "id": "MDv9xcDhz_cO",
        "outputId": "06f435e1-2c5b-4cf9-c78b-2f0ed9aeb17f"
      },
      "source": [
        "A= np.array([[1,2,],[4,7]])\n",
        "invA = np.linalg.inv(A)\n",
        "print(invA)\n"
      ],
      "execution_count": 13,
      "outputs": [
        {
          "output_type": "stream",
          "name": "stdout",
          "text": [
            "[[-7.  2.]\n",
            " [ 4. -1.]]\n"
          ]
        }
      ]
    },
    {
      "cell_type": "code",
      "metadata": {
        "colab": {
          "base_uri": "https://localhost:8080/"
        },
        "id": "yBb9rsdI0TPG",
        "outputId": "ebb7b54b-e9e3-4d97-e182-f757ad9457c5"
      },
      "source": [
        "A= np.array([[1,2,],[4,7]])\n",
        "invA = np.linalg.inv(A)\n",
        "C= np.dot(A,invA)\n",
        "print(C)"
      ],
      "execution_count": 11,
      "outputs": [
        {
          "output_type": "stream",
          "name": "stdout",
          "text": [
            "[[1. 0.]\n",
            " [0. 1.]]\n"
          ]
        }
      ]
    },
    {
      "cell_type": "markdown",
      "metadata": {
        "id": "dP6KjmPU4qq1"
      },
      "source": [
        "##Python Program to Transpose a 3x3 Matrix"
      ]
    },
    {
      "cell_type": "code",
      "metadata": {
        "colab": {
          "base_uri": "https://localhost:8080/"
        },
        "id": "FnjtwW3m4FE-",
        "outputId": "a23ee10b-79fc-4c88-80f5-882c85187e70"
      },
      "source": [
        "#A=([[6,1,1],[4,-2,5],[2.8.7]])\n",
        "A= np.array([[6,1,1],[4,-2,5],[2,8,7]])\n",
        "print(A)\n",
        "B= np.transpose(A)\n",
        "print(B)"
      ],
      "execution_count": 15,
      "outputs": [
        {
          "output_type": "stream",
          "name": "stdout",
          "text": [
            "[[ 6  1  1]\n",
            " [ 4 -2  5]\n",
            " [ 2  8  7]]\n",
            "[[ 6  4  2]\n",
            " [ 1 -2  8]\n",
            " [ 1  5  7]]\n"
          ]
        }
      ]
    },
    {
      "cell_type": "markdown",
      "metadata": {
        "id": "mCZmJiXG6i2u"
      },
      "source": [
        "##Python Program to Inverse a 3x3 Matrix"
      ]
    },
    {
      "cell_type": "code",
      "metadata": {
        "colab": {
          "base_uri": "https://localhost:8080/"
        },
        "id": "CKATs_3F6erQ",
        "outputId": "ed940a5e-ea30-4359-c5b3-f18e2365fbb9"
      },
      "source": [
        "#A=([[6,1,1],[4,-2,5],[2.8.7]])\n",
        "A = np.array([[6,1,1],[4,-2,5],[2,8,7]])\n",
        "InvA = np.linalg.inv(A)\n",
        "print(InvA)\n",
        "print()"
      ],
      "execution_count": 21,
      "outputs": [
        {
          "output_type": "stream",
          "name": "stdout",
          "text": [
            "[[ 0.17647059 -0.00326797 -0.02287582]\n",
            " [ 0.05882353 -0.13071895  0.08496732]\n",
            " [-0.11764706  0.1503268   0.05228758]]\n",
            "\n"
          ]
        }
      ]
    },
    {
      "cell_type": "markdown",
      "metadata": {
        "id": "xhUjdmX67mSP"
      },
      "source": [
        "##Program Code to show the Dot Product of A and B"
      ]
    },
    {
      "cell_type": "code",
      "metadata": {
        "colab": {
          "base_uri": "https://localhost:8080/"
        },
        "id": "1gRzNhcL7gUf",
        "outputId": "8d922c4f-9639-44a7-e4d6-cfb648326620"
      },
      "source": [
        "productAB= np.dot(A, InvA)\n",
        "print(productAB)"
      ],
      "execution_count": 30,
      "outputs": [
        {
          "output_type": "stream",
          "name": "stdout",
          "text": [
            "[[ 1.00000000e+00  0.00000000e+00  2.77555756e-17]\n",
            " [-1.38777878e-17  1.00000000e+00  1.38777878e-17]\n",
            " [-4.16333634e-17  1.38777878e-16  1.00000000e+00]]\n"
          ]
        }
      ]
    },
    {
      "cell_type": "markdown",
      "metadata": {
        "id": "bc1-cnHX-Wj4"
      },
      "source": [
        "#Coding Activity 3/ Python Exercise 3\n",
        "####Create a Python Program to inverse and transpose a 4x4 matrix"
      ]
    },
    {
      "cell_type": "code",
      "metadata": {
        "colab": {
          "base_uri": "https://localhost:8080/"
        },
        "id": "031COMJy-QNO",
        "outputId": "025e1224-266b-49a6-ccf3-fc3140ea1bd7"
      },
      "source": [
        "##Create a Python Program to inverse and transpose a 4x4 matrix\n",
        "A = ([6,1,1,3],[4,-2,5,1],[2,8,7,6],[3,1,9,7]) #This is the given 4x4 matrix\n",
        "InvA= (np.linalg.inv(A)) #this is used in order to inverse a given matrix\n",
        "print('The inverse of a 4x4 matrix namely A is')\n",
        "print(InvA)\n",
        "print()\n",
        "B= np.transpose(A) #this is used in order to transpose a given matrix\n",
        "print('The transpose of a 4x4 matrix namely A is')\n",
        "print(B)"
      ],
      "execution_count": 37,
      "outputs": [
        {
          "output_type": "stream",
          "name": "stdout",
          "text": [
            "The inverse of a 4x4 matrix namely A is\n",
            "[[ 0.13368984  0.10695187  0.02139037 -0.09090909]\n",
            " [-0.00229183  0.02673797  0.14820474 -0.12987013]\n",
            " [-0.12987013  0.18181818  0.06493506 -0.02597403]\n",
            " [ 0.11000764 -0.28342246 -0.11382735  0.23376623]]\n",
            "\n",
            "The transpose of a 4x4 matrix namely A is\n",
            "[[ 6  4  2  3]\n",
            " [ 1 -2  8  1]\n",
            " [ 1  5  7  9]\n",
            " [ 3  1  6  7]]\n"
          ]
        }
      ]
    }
  ]
}