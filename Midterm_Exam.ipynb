{
  "nbformat": 4,
  "nbformat_minor": 0,
  "metadata": {
    "colab": {
      "name": "Midterm Exam.ipynb",
      "provenance": [],
      "authorship_tag": "ABX9TyNvhyMGnoFAXfHM8SZ/synU",
      "include_colab_link": true
    },
    "kernelspec": {
      "name": "python3",
      "display_name": "Python 3"
    },
    "language_info": {
      "name": "python"
    }
  },
  "cells": [
    {
      "cell_type": "markdown",
      "metadata": {
        "id": "view-in-github",
        "colab_type": "text"
      },
      "source": [
        "<a href=\"https://colab.research.google.com/github/adriyennKB/Linear-Algebra-58019/blob/main/Midterm_Exam.ipynb\" target=\"_parent\"><img src=\"https://colab.research.google.com/assets/colab-badge.svg\" alt=\"Open In Colab\"/></a>"
      ]
    },
    {
      "cell_type": "markdown",
      "metadata": {
        "id": "5OROdLIR4tD8"
      },
      "source": [
        "###Question 1. Create a Python code that displays a square matrix whose length is 5"
      ]
    },
    {
      "cell_type": "code",
      "metadata": {
        "colab": {
          "base_uri": "https://localhost:8080/"
        },
        "id": "BplWBeKn4pLX",
        "outputId": "34c97827-eba5-4a99-9b09-f9847446d4b3"
      },
      "source": [
        "import numpy as np #Import Library\n",
        "#squarematrix that will display a length of 5 has the same length and width so 5x5\n",
        "SquareMatrix= np.array([[1,2,3,4,5],[2,0,0,0,0],[3,0,0,0,0], [4,0,0,0,0], [5,0,0,0,0]]) #5x5 Matrix\n",
        "print(\"Square Matrix whose length is 5 is\")\n",
        "print(SquareMatrix) #display final answer"
      ],
      "execution_count": 4,
      "outputs": [
        {
          "output_type": "stream",
          "name": "stdout",
          "text": [
            "Square Matrix whose length is 5 is\n",
            "[[1 2 3 4 5]\n",
            " [2 0 0 0 0]\n",
            " [3 0 0 0 0]\n",
            " [4 0 0 0 0]\n",
            " [5 0 0 0 0]]\n"
          ]
        }
      ]
    },
    {
      "cell_type": "markdown",
      "metadata": {
        "id": "sDPNk_OI7S5a"
      },
      "source": [
        "###Question 2. Create a Python code that displays a square matrix whose elements below the principal diagonal are zero (10 points)"
      ]
    },
    {
      "cell_type": "code",
      "metadata": {
        "colab": {
          "base_uri": "https://localhost:8080/"
        },
        "id": "rYghwrg_5mcq",
        "outputId": "885da649-891f-4457-c82c-80b5bc9f0ecc"
      },
      "source": [
        "triangularMatrix = np.array([[1,2,3,4],[0,5,6,7],[0,0,8,9],[0,0,0,10]]) #3x3 Matrix\n",
        "#to print or display\n",
        "print('A square matrix whose elements below the principal diagonal are zero:') \n",
        "print(triangularMatrix) #To print or display final answer"
      ],
      "execution_count": 40,
      "outputs": [
        {
          "output_type": "stream",
          "name": "stdout",
          "text": [
            "A square matrix whose elements below the principal diagonal are zero: \n",
            "[[ 1  2  3  4]\n",
            " [ 0  5  6  7]\n",
            " [ 0  0  8  9]\n",
            " [ 0  0  0 10]]\n"
          ]
        }
      ]
    },
    {
      "cell_type": "markdown",
      "metadata": {
        "id": "CNssZ92Q7YE5"
      },
      "source": [
        "###Question 3. Create a Python code that displays a square matrix which is symmetrical (10 points)"
      ]
    },
    {
      "cell_type": "code",
      "metadata": {
        "colab": {
          "base_uri": "https://localhost:8080/"
        },
        "id": "jwj2_ISn7X2J",
        "outputId": "38185156-5aea-4396-989d-1dc44feef0d0"
      },
      "source": [
        "squareMatrix= np.array ([[1,2,3,4,5],[2,1,2,3,4],[3,2,1,2,3],[4,3,2,1,2],[5,4,3,2,1]]) #Creates a square matrix that is symmetrical\n",
        "#prints a square matrix which is symmetrical\n",
        "print('A symmetrical Square Matrix')\n",
        "print(squareMatrix)"
      ],
      "execution_count": 28,
      "outputs": [
        {
          "output_type": "stream",
          "name": "stdout",
          "text": [
            "A symmetrical Square Matrix\n",
            "[[1 2 3 4 5]\n",
            " [2 1 2 3 4]\n",
            " [3 2 1 2 3]\n",
            " [4 3 2 1 2]\n",
            " [5 4 3 2 1]]\n"
          ]
        }
      ]
    },
    {
      "cell_type": "markdown",
      "metadata": {
        "id": "PoSfu39W5oMq"
      },
      "source": [
        "###Question 4. What is the inverse of matrix C? Show your solution by python coding. (20 points)"
      ]
    },
    {
      "cell_type": "code",
      "metadata": {
        "colab": {
          "base_uri": "https://localhost:8080/"
        },
        "id": "cXglEVxJ5mOM",
        "outputId": "20b14a1b-3e35-4da5-aec3-f4c7dc496143"
      },
      "source": [
        "C = np.array ([[1,2,3],[2,3,3],[3,4,-2]]) #Matrix C\n",
        "print(C) #to display or print\n",
        "\n",
        "invC = np.linalg.inv(C) #Way to Inverse Matrix C\n",
        "#to display or print\n",
        "print('Inverse of Matrix C')\n",
        "print(invC) #prints the Inverse of Matrix C"
      ],
      "execution_count": 20,
      "outputs": [
        {
          "output_type": "stream",
          "name": "stdout",
          "text": [
            "[[ 1  2  3]\n",
            " [ 2  3  3]\n",
            " [ 3  4 -2]]\n",
            "Inverse of Matrix C\n",
            "[[-3.6  3.2 -0.6]\n",
            " [ 2.6 -2.2  0.6]\n",
            " [-0.2  0.4 -0.2]]\n"
          ]
        }
      ]
    },
    {
      "cell_type": "markdown",
      "metadata": {
        "id": "VXIhEQpf7i8h"
      },
      "source": [
        "###Question 5. What is the determinant of the given matrix in Question 4? Show your solution by python coding. (20 points)"
      ]
    },
    {
      "cell_type": "code",
      "metadata": {
        "colab": {
          "base_uri": "https://localhost:8080/"
        },
        "id": "vpXKRHlC5mID",
        "outputId": "ba7caae0-3ea0-4408-dbc1-8c746973bef1"
      },
      "source": [
        "C = np.array ([[1,2,3],[2,3,3],[3,4,-2]]) #Create Matrix C\n",
        "print(C)\n",
        "determinantC = np.linalg.det(C) #Gives determinant of C\n",
        "#to display or print the answer or determinant\n",
        "print('Determinant of the Given Matrix in Q4: ')\n",
        "print(determinantC)\n",
        "print('Rounded Off Determinant of Matrix C')\n",
        "print(round(determinantC)) #Rounded off Answer\n",
        "\n"
      ],
      "execution_count": 36,
      "outputs": [
        {
          "output_type": "stream",
          "name": "stdout",
          "text": [
            "[[ 1  2  3]\n",
            " [ 2  3  3]\n",
            " [ 3  4 -2]]\n",
            "Determinant of the Given Matrix in Q4: \n",
            "5.000000000000001\n",
            "Rounded Off Determinant of Matrix C\n",
            "5\n"
          ]
        }
      ]
    },
    {
      "cell_type": "markdown",
      "metadata": {
        "id": "jyK8Fi438IoK"
      },
      "source": [
        "###Question 6. Find the roots of the linear equations by showing its python codes (30 points)"
      ]
    },
    {
      "cell_type": "code",
      "metadata": {
        "colab": {
          "base_uri": "https://localhost:8080/"
        },
        "id": "UsnIL_EF8I-D",
        "outputId": "2894efe1-8a3e-4f58-a47b-8752fe7bce91"
      },
      "source": [
        "A = np.array([[5,4,1],[10,9,4],[10,13,15]]) #Creation of a 3x3 matrix named A, that contains the equation.\n",
        "B = np.array([[[3.4],[8.8],[19.2]]]) #Creation of a 2x3 matrix named B, that contains the constants.\n",
        "\n",
        "roots = np.linalg.inv(eq) @B #to find roots of Linear equation\n",
        "#to print and display the output\n",
        "print('Roots of the given linear equations:')\n",
        "print(roots) #final answer"
      ],
      "execution_count": 39,
      "outputs": [
        {
          "output_type": "stream",
          "name": "stdout",
          "text": [
            "Roots of the given linear equations:\n",
            "[[[0.2]\n",
            "  [0.4]\n",
            "  [0.8]]]\n"
          ]
        }
      ]
    }
  ]
}